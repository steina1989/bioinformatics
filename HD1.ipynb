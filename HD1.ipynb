{
 "cells": [
  {
   "cell_type": "markdown",
   "metadata": {},
   "source": [
    "## 1a\n",
    "Greinum þá fyrst hvernig d fallið er án breytinga.\n",
    "Það sem hefur ekki útskýringu sem komment hefur constant tímaflækju."
   ]
  },
  {
   "cell_type": "code",
   "execution_count": 6,
   "metadata": {},
   "outputs": [],
   "source": [
    "def d(pattern, dna_collection):\n",
    "    \n",
    "    running_sum = 0\n",
    "    for dna in dna_collection: # t sinnum\n",
    "        lowest = float(\"inf\")\n",
    "        for kmer in iter_substr(dna, len(pattern)): # n sinnum (einfaldað)\n",
    "            dist = hamming_distance(kmer, pattern) # O(k)\n",
    "            lowest = min(dist, lowest) \n",
    "        running_sum += lowest \n",
    "    return running_sum"
   ]
  },
  {
   "cell_type": "markdown",
   "metadata": {},
   "source": [
    "Má sjá á þessu að heildartímaflækja d er\n",
    "\\begin{equation*}\n",
    "\\mathcal{O}(t*n*k)\n",
    "\\end{equation*}"
   ]
  },
  {
   "cell_type": "markdown",
   "metadata": {},
   "source": [
    "Þar sem við erum ítrekað að kalla á d með öllum mögulegum k-merum í medianString fallinu, margfaldast tímaflækjan með fjöldanum, $\\mathcal{O}(4^k)$.\n",
    "\n",
    "Heildartímaflækjan medianString er þá:\n",
    "\\begin{equation*}\n",
    "\\mathcal{O}(4^k*t*n*k)\n",
    "\\end{equation*}\n",
    "\n",
    "Ef ég geri ráð fyrir að við viljum sleppa því dna í dna_collection sem myndi annars bæta við hæstu hamming fjarlægðinni, þá þarf að upphafsstilla nýja breytu \"highest\" og láta hana hafa hæsta gildi sem lowest breytan hefur tekið *eftir* ítrunina á öllum t+1 línunum."
   ]
  },
  {
   "cell_type": "code",
   "execution_count": 1,
   "metadata": {},
   "outputs": [],
   "source": [
    "def d(pattern, dna_collection):\n",
    "    \n",
    "    running_sum = 0\n",
    "    highest = 0 # Upphafsstilling\n",
    "    for dna in dna_collection: \n",
    "        lowest = float(\"inf\")\n",
    "        for kmer in iter_substr(dna, len(pattern)): \n",
    "            dist = hamming_distance(kmer, pattern) \n",
    "            lowest = min(dist, lowest) \n",
    "        highest = max(highest, lowest) # Setjum highest ef það skyldi hafa breyst\n",
    "        running_sum += lowest \n",
    "    return running_sum - highest # Drögum frá hæsta gildið í endann"
   ]
  },
  {
   "cell_type": "markdown",
   "metadata": {},
   "source": [
    "Þessar breytingar hafa constant tímaflækju og breyta því ekki tímaflækju reikniritsins."
   ]
  },
  {
   "cell_type": "markdown",
   "metadata": {},
   "source": [
    "## 1b\n",
    "\n",
    "GibbsSampler skilar að lokum nokkuð líklegu Mótífi, þ.e.a.s. $Motif_1, Motif_2,.., Motif_N$.\n",
    "\n",
    "Við getum nú útbúið consensus streng úr mótífinu, en þá uppfylltum við ekki skilyrði verkefnisins. \n",
    "Til þess að gera það gætum við keyrt d(pattern, dna_collection) þar sem pattern er $Motif_i$ fyrir hvert motíf í Motifs fylkinu, og leggjum það motíf á minnið sem skilar hæstu fjarlægð. Nú getum við útbúið consensus streng fyrir öll mótífinu í Motifs að undanskyldu því mótífi sem skilaði hæstu fjarlægð, og látum hann heita P.\n",
    "\n",
    "\n"
   ]
  },
  {
   "cell_type": "markdown",
   "metadata": {},
   "source": [
    "## 2a\n",
    "\n"
   ]
  }
 ],
 "metadata": {
  "kernelspec": {
   "display_name": "Python 3",
   "language": "python",
   "name": "python3"
  },
  "language_info": {
   "codemirror_mode": {
    "name": "ipython",
    "version": 3
   },
   "file_extension": ".py",
   "mimetype": "text/x-python",
   "name": "python",
   "nbconvert_exporter": "python",
   "pygments_lexer": "ipython3",
   "version": "3.6.5"
  }
 },
 "nbformat": 4,
 "nbformat_minor": 2
}
