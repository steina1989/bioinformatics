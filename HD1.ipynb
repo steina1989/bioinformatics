{
 "cells": [
  {
   "cell_type": "markdown",
   "metadata": {},
   "source": [
    "Greinum þá fyrst hvernig medan-string fallið er án breytinga.\n",
    "Það sem hefur ekki útskýringu sem komment hefur constant tímaflækju."
   ]
  },
  {
   "cell_type": "code",
   "execution_count": 1,
   "metadata": {},
   "outputs": [],
   "source": [
    "def d(pattern: str, dna_collection: Iterable):\n",
    "    \n",
    "    running_sum = 0\n",
    "    for dna in dna_collection: # t sinnum\n",
    "        lowest = float(\"inf\")\n",
    "        for kmer in iter_substr(dna, len(pattern)): # n sinnum\n",
    "            dist = hamming_distance(kmer, pattern) # O(k)\n",
    "            if dist < lowest: \n",
    "                lowest = dist \n",
    "        running_sum += lowest \n",
    "    return running_sum"
   ]
  },
  {
   "cell_type": "markdown",
   "metadata": {},
   "source": [
    "Má sjá á þessu að heildartímaflækja d er\n",
    "\\begin{equation*}\n",
    "\\mathcal{O}(t*n*k)\n",
    "\\end{equation*}"
   ]
  }
 ],
 "metadata": {
  "kernelspec": {
   "display_name": "Python 3",
   "language": "python",
   "name": "python3"
  },
  "language_info": {
   "codemirror_mode": {
    "name": "ipython",
    "version": 3
   },
   "file_extension": ".py",
   "mimetype": "text/x-python",
   "name": "python",
   "nbconvert_exporter": "python",
   "pygments_lexer": "ipython3",
   "version": "3.6.6"
  }
 },
 "nbformat": 4,
 "nbformat_minor": 2
}
